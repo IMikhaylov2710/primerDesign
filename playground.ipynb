{
 "cells": [
  {
   "cell_type": "code",
   "execution_count": 22,
   "metadata": {},
   "outputs": [],
   "source": [
    "import os\n",
    "import pandas as pd\n",
    "import sqlite3\n",
    "import sqlalchemy\n",
    "from sqlalchemy import create_engine, ForeignKey\n",
    "from sqlalchemy import Column, Date, Integer, String\n",
    "from sqlalchemy.ext.declarative import declarative_base"
   ]
  },
  {
   "cell_type": "code",
   "execution_count": 23,
   "metadata": {},
   "outputs": [],
   "source": [
    "lins = []\n",
    "e = 0\n",
    "with open('DB/00-common_all.vcf', 'r') as handle:\n",
    "    for lin in handle:\n",
    "        if e < 100:\n",
    "            if not lin.startswith('#'):\n",
    "                lins.append(lin)\n",
    "                e+=1\n",
    "        else:\n",
    "            break\n"
   ]
  },
  {
   "cell_type": "code",
   "execution_count": 27,
   "metadata": {},
   "outputs": [
    {
     "name": "stdout",
     "output_type": "stream",
     "text": [
      "2024-07-11 16:45:32,065 INFO sqlalchemy.engine.Engine BEGIN (implicit)\n",
      "2024-07-11 16:45:32,066 INFO sqlalchemy.engine.Engine PRAGMA main.table_info(\"dbsnp\")\n",
      "2024-07-11 16:45:32,066 INFO sqlalchemy.engine.Engine [raw sql] ()\n",
      "2024-07-11 16:45:32,067 INFO sqlalchemy.engine.Engine PRAGMA temp.table_info(\"dbsnp\")\n",
      "2024-07-11 16:45:32,068 INFO sqlalchemy.engine.Engine [raw sql] ()\n",
      "2024-07-11 16:45:32,069 INFO sqlalchemy.engine.Engine \n",
      "CREATE TABLE dbsnp (\n",
      "\tid INTEGER NOT NULL, \n",
      "\tchromosome VARCHAR, \n",
      "\tcoordinate INTEGER, \n",
      "\trs VARCHAR, \n",
      "\t\"refAllele\" VARCHAR, \n",
      "\t\"altAllele\" VARCHAR, \n",
      "\t\"refAlleleFrequency\" VARCHAR, \n",
      "\t\"altAlleleFrequencySum\" VARCHAR, \n",
      "\tPRIMARY KEY (id)\n",
      ")\n",
      "\n",
      "\n",
      "2024-07-11 16:45:32,069 INFO sqlalchemy.engine.Engine [no key 0.00033s] ()\n",
      "2024-07-11 16:45:32,072 INFO sqlalchemy.engine.Engine COMMIT\n"
     ]
    },
    {
     "name": "stderr",
     "output_type": "stream",
     "text": [
      "/tmp/ipykernel_5000/369901646.py:2: MovedIn20Warning: The ``declarative_base()`` function is now available as sqlalchemy.orm.declarative_base(). (deprecated since: 2.0) (Background on SQLAlchemy 2.0 at: https://sqlalche.me/e/b8d9)\n",
      "  Base = declarative_base()\n"
     ]
    }
   ],
   "source": [
    "engine = create_engine('sqlite:///DB/dbsnp.db', echo=True)\n",
    "Base = declarative_base()\n",
    "\n",
    "\n",
    "class VariantInfo(Base):\n",
    "\n",
    "    __tablename__ = \"dbsnp\"\n",
    "\n",
    "    id = Column(Integer, primary_key=True)\n",
    "    chromosome = Column(String)  \n",
    "    coordinate = Column(Integer)\n",
    "    rs = Column(String)\n",
    "    refAllele = Column(String)\n",
    "    altAllele = Column(String)\n",
    "    refAlleleFrequency = Column(String)\n",
    "    altAlleleFrequencySum = Column(String)\n",
    "\n",
    "\n",
    "    def __init__(self, name):\n",
    "\n",
    "        self.name = name    \n",
    "\n",
    "\n",
    "Base.metadata.create_all(engine)"
   ]
  },
  {
   "cell_type": "code",
   "execution_count": 34,
   "metadata": {},
   "outputs": [
    {
     "ename": "TypeError",
     "evalue": "add_rs() missing 1 required positional argument: 'task'",
     "output_type": "error",
     "traceback": [
      "\u001b[0;31m---------------------------------------------------------------------------\u001b[0m",
      "\u001b[0;31mTypeError\u001b[0m                                 Traceback (most recent call last)",
      "Cell \u001b[0;32mIn[34], line 22\u001b[0m\n\u001b[1;32m     20\u001b[0m row \u001b[38;5;241m=\u001b[39m [e, \u001b[38;5;124m'\u001b[39m\u001b[38;5;124mchr\u001b[39m\u001b[38;5;124m'\u001b[39m\u001b[38;5;241m+\u001b[39mls[\u001b[38;5;241m0\u001b[39m], ls[\u001b[38;5;241m1\u001b[39m], ls[\u001b[38;5;241m2\u001b[39m], ls[\u001b[38;5;241m3\u001b[39m], ls[\u001b[38;5;241m4\u001b[39m], ref, alt]\n\u001b[1;32m     21\u001b[0m e\u001b[38;5;241m+\u001b[39m\u001b[38;5;241m=\u001b[39m\u001b[38;5;241m1\u001b[39m\n\u001b[0;32m---> 22\u001b[0m \u001b[43madd_rs\u001b[49m\u001b[43m(\u001b[49m\u001b[43mrow\u001b[49m\u001b[43m)\u001b[49m\n",
      "\u001b[0;31mTypeError\u001b[0m: add_rs() missing 1 required positional argument: 'task'"
     ]
    }
   ],
   "source": [
    "e = 1\n",
    "with sqlite3.connect('DB/dbsnp.db') as conn:\n",
    "    for l in lins:\n",
    "        ls = l.split('\\t')\n",
    "        info = ls[-1].split(';')\n",
    "        for unit in info:\n",
    "            if 'CAF' in unit:\n",
    "                if len(unit.split(',')) > 2:\n",
    "                    ref = float(unit.split('=')[1].split(',')[0])\n",
    "                    maf = [a for a in unit.split('=')[1].split(',')[1:]]\n",
    "                    totalMaf = 0\n",
    "                    for i in maf:\n",
    "                        if i == '.':\n",
    "                            totalMaf+=0\n",
    "                        else:\n",
    "                            totalMaf+=float(i)\n",
    "\n",
    "                else:\n",
    "                    ref = float(unit.split('=')[1].split(',')[0])\n",
    "                    alt = float(unit.split('=')[1].split(',')[1])\n",
    "        row = [e, 'chr'+ls[0], ls[1], ls[2], ls[3], ls[4], ref, alt]\n",
    "        e+=1\n",
    "        add_rs(conn, row)"
   ]
  },
  {
   "cell_type": "code",
   "execution_count": 33,
   "metadata": {},
   "outputs": [],
   "source": [
    "def add_rs(conn, task):\n",
    "    sql = '''INSERT INTO dbsnp(id, chromosome, coordinate, rs, refAllele, altAllele, refAlleleFrequency, altAlleleFrequency)\n",
    "             VALUES(?,?,?,?,?,?,?,?) '''\n",
    "    cur = conn.cursor()\n",
    "    cur.execute(sql, task)\n",
    "    conn.commit()\n",
    "    return cur.lastrowid"
   ]
  },
  {
   "cell_type": "code",
   "execution_count": null,
   "metadata": {},
   "outputs": [],
   "source": []
  }
 ],
 "metadata": {
  "kernelspec": {
   "display_name": "base",
   "language": "python",
   "name": "python3"
  },
  "language_info": {
   "codemirror_mode": {
    "name": "ipython",
    "version": 3
   },
   "file_extension": ".py",
   "mimetype": "text/x-python",
   "name": "python",
   "nbconvert_exporter": "python",
   "pygments_lexer": "ipython3",
   "version": "3.11.8"
  }
 },
 "nbformat": 4,
 "nbformat_minor": 2
}
